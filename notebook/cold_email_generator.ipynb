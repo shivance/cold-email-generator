{
 "cells": [
  {
   "cell_type": "code",
   "execution_count": 2,
   "metadata": {},
   "outputs": [],
   "source": [
    "!pip install -qq nest_asyncio pydantic pydantic_ai rich html2text python-dotenv"
   ]
  },
  {
   "cell_type": "code",
   "execution_count": 5,
   "metadata": {},
   "outputs": [],
   "source": [
    "import nest_asyncio\n",
    "\n",
    "nest_asyncio.apply()"
   ]
  },
  {
   "cell_type": "code",
   "execution_count": 3,
   "metadata": {},
   "outputs": [
    {
     "data": {
      "text/plain": [
       "True"
      ]
     },
     "execution_count": 3,
     "metadata": {},
     "output_type": "execute_result"
    }
   ],
   "source": [
    "from dotenv import load_dotenv\n",
    "\n",
    "load_dotenv()"
   ]
  },
  {
   "cell_type": "code",
   "execution_count": 8,
   "metadata": {},
   "outputs": [],
   "source": [
    "from rich import print as pprint"
   ]
  },
  {
   "cell_type": "code",
   "execution_count": 6,
   "metadata": {},
   "outputs": [],
   "source": [
    "from pydantic_ai import Agent\n",
    "\n",
    "hello_world_agent = Agent(\n",
    "    model=\"groq:llama-3.2-3b-preview\",\n",
    "    system_prompt=\"You are an excellent cook.\"\n",
    ")\n",
    "\n",
    "result = hello_world_agent.run_sync(\"Suggest me 3 recipe for today's breakfast\")\n"
   ]
  },
  {
   "cell_type": "markdown",
   "metadata": {},
   "source": [
    "What is given?\n",
    "\n",
    "url - web address to job posting\n",
    "\n",
    "What is agent supposed to do?\n",
    "\n",
    "1. Fetch the job data from the posting URL\n",
    "2. Use the job posting, and write a cold email"
   ]
  },
  {
   "cell_type": "code",
   "execution_count": 13,
   "metadata": {},
   "outputs": [],
   "source": [
    "import requests\n",
    "from bs4 import BeautifulSoup\n",
    "from datetime import datetime\n",
    "import html2text\n",
    "import re\n",
    "\n",
    "def clean_text(text):\n",
    "    \"\"\"Clean extracted text by removing extra whitespace and empty lines\"\"\"\n",
    "    text = re.sub(r'\\n\\s*\\n', '\\n\\n', text.strip())\n",
    "    return text\n",
    "\n",
    "def scrape_website(url, selector=None):\n",
    "    \"\"\"\n",
    "    Scrapes data from a website and converts HTML to Markdown.\n",
    "    \n",
    "    Parameters:\n",
    "    url (str): The URL of the website to scrape\n",
    "    selector (str, optional): CSS selector to target specific elements\n",
    "    \n",
    "    Returns:\n",
    "    str: Markdown formatted text\n",
    "    \"\"\"\n",
    "    try:\n",
    "        headers = {\n",
    "            'User-Agent': 'Mozilla/5.0 (Windows NT 10.0; Win64; x64) AppleWebKit/537.36'\n",
    "        }\n",
    "        response = requests.get(url, headers=headers)\n",
    "        response.raise_for_status()\n",
    "        \n",
    "        soup = BeautifulSoup(response.text, 'html.parser')\n",
    "        \n",
    "        # Remove unwanted elements\n",
    "        for element in soup.select('script, style, nav, footer, header'):\n",
    "            element.decompose()\n",
    "        \n",
    "        # Convert to Markdown\n",
    "        h = html2text.HTML2Text()\n",
    "        h.ignore_links = False\n",
    "        h.ignore_images = False\n",
    "        h.body_width = 0  # No wrapping\n",
    "        \n",
    "        if selector:\n",
    "            elements = soup.select(selector)\n",
    "            content = '\\n\\n'.join(h.handle(str(element)) for element in elements)\n",
    "        else:\n",
    "            content = h.handle(str(soup.body))\n",
    "        \n",
    "        # Clean and save content\n",
    "        content = clean_text(content)\n",
    "        timestamp = datetime.now().strftime('%Y%m%d_%H%M%S')\n",
    "        \n",
    "        with open(f'scraped_content_{timestamp}.md', 'w', encoding='utf-8') as file:\n",
    "            file.write(content)\n",
    "            \n",
    "        return content\n",
    "        \n",
    "    except Exception as e:\n",
    "        print(f\"Error: {e}\")\n",
    "        return \"\"\n",
    "\n",
    "website_url = \"https://shivance.github.io/pages/authoring.html\"\n",
    "content = scrape_website(website_url)"
   ]
  },
  {
   "cell_type": "code",
   "execution_count": 28,
   "metadata": {},
   "outputs": [],
   "source": [
    "from dataclasses import dataclass\n",
    "from typing import List\n",
    "\n",
    "from pydantic import BaseModel, Field\n",
    "from pydantic_ai import RunContext\n",
    "\n",
    "\n",
    "# Tool Input\n",
    "@dataclass\n",
    "class JobInformationFetchDeps:\n",
    "    job_post_url: str\n",
    "\n",
    "\n",
    "# Tool Output - Agent Input\n",
    "@dataclass\n",
    "class JobDescriptionAgentDependecies:\n",
    "    job_posting_information: str\n",
    "\n",
    "\n",
    "class JobDescriptionAgentResult(BaseModel):\n",
    "    role: str = Field(\n",
    "        description=\"The job title or role position being described (e.g., 'Senior Software Engineer', 'Product Manager')\"\n",
    "    )\n",
    "    company_name: str = Field(description=\"The Company which posted job\")\n",
    "    experience: str = Field(\n",
    "        description=\"Required years and type of experience for the position (e.g., '5+ years of software development')\"\n",
    "    )\n",
    "    skills: List[str] = Field(\n",
    "        description=\"List of specific technical skills, tools, or competencies required for the role (e.g., ['Python', 'AWS', 'Machine Learning'])\"\n",
    "    )\n",
    "    description: str = Field(\n",
    "        description=\"Detailed overview of the job responsibilities, requirements, and expectations\"\n",
    "    )\n",
    "\n",
    "\n",
    "job_description_parser_agent = Agent(\n",
    "    model=\"groq:llama-3.2-3b-preview\",\n",
    "    deps_type=JobInformationFetchDeps,\n",
    "    result_type=JobDescriptionAgentResult,\n",
    "    system_prompt=\"\"\"You are a specialized HR assistant focused on analyzing and structuring job descriptions. Your primary responsibilities are:\n",
    "1. Use the get_job_details tool to retrieve job posting information\n",
    "2. Extract and categorize key components including:\n",
    "   - Core role/position title\n",
    "   - Required experience level\n",
    "   - Essential skills and qualifications\n",
    "   - Detailed role description and responsibilities\n",
    "Format all outputs according to the JobDescription schema. Be precise and consistent in your categorization. When analyzing skills:\n",
    "- Focus on specific technical and professional competencies\n",
    "- Separate distinct skills into individual items\n",
    "- Standardize skill names (e.g., \"Python\" not \"python programming\")\n",
    "If job details are ambiguous or incomplete, make reasonable inferences based on industry standards while maintaining accuracy.\"\"\",\n",
    ")\n",
    "\n",
    "@job_description_parser_agent.tool\n",
    "def get_job_details(\n",
    "    ctx: RunContext[JobInformationFetchDeps],\n",
    ") -> JobDescriptionAgentDependecies:\n",
    "    \"\"\"\n",
    "    Retrieves and extracts job posting information\n",
    "    \"\"\"\n",
    "    job_post_url = ctx.deps.job_post_url\n",
    "    job_posting_information = scrape_website(url=job_post_url)\n",
    "    # pprint(job_posting_information)\n",
    "    return JobDescriptionAgentDependecies(\n",
    "        job_posting_information=job_posting_information\n",
    "    )\n"
   ]
  },
  {
   "cell_type": "code",
   "execution_count": 29,
   "metadata": {},
   "outputs": [
    {
     "data": {
      "text/html": [
       "<pre style=\"white-space:pre;overflow-x:auto;line-height:normal;font-family:Menlo,'DejaVu Sans Mono',consolas,'Courier New',monospace\"><span style=\"color: #800080; text-decoration-color: #800080; font-weight: bold\">JobDescriptionAgentResult</span><span style=\"font-weight: bold\">(</span>\n",
       "    <span style=\"color: #808000; text-decoration-color: #808000\">role</span>=<span style=\"color: #008000; text-decoration-color: #008000\">'Software Engineer, Claude.AI'</span>,\n",
       "    <span style=\"color: #808000; text-decoration-color: #808000\">company_name</span>=<span style=\"color: #008000; text-decoration-color: #008000\">'Anthropic'</span>,\n",
       "    <span style=\"color: #808000; text-decoration-color: #808000\">experience</span>=<span style=\"color: #008000; text-decoration-color: #008000\">'5+ years of experience as a software engineer, preferably building APIs and/or interfaces'</span>,\n",
       "    <span style=\"color: #808000; text-decoration-color: #808000\">skills</span>=<span style=\"font-weight: bold\">[</span><span style=\"color: #008000; text-decoration-color: #008000\">'Python'</span>, <span style=\"color: #008000; text-decoration-color: #008000\">'AWS'</span>, <span style=\"color: #008000; text-decoration-color: #008000\">'Machine Learning'</span><span style=\"font-weight: bold\">]</span>,\n",
       "    <span style=\"color: #808000; text-decoration-color: #808000\">description</span>=<span style=\"color: #008000; text-decoration-color: #008000\">'Anthropic’s mission is to create reliable, interpretable, and steerable AI systems. We want AI to </span>\n",
       "<span style=\"color: #008000; text-decoration-color: #008000\">be safe and beneficial for our users and for society as a whole. Our team is a quickly growing group of committed </span>\n",
       "<span style=\"color: #008000; text-decoration-color: #008000\">researchers, engineers, policy experts, and business leaders working together to build beneficial AI systems.'</span>\n",
       "<span style=\"font-weight: bold\">)</span>\n",
       "</pre>\n"
      ],
      "text/plain": [
       "\u001b[1;35mJobDescriptionAgentResult\u001b[0m\u001b[1m(\u001b[0m\n",
       "    \u001b[33mrole\u001b[0m=\u001b[32m'Software Engineer, Claude.AI'\u001b[0m,\n",
       "    \u001b[33mcompany_name\u001b[0m=\u001b[32m'Anthropic'\u001b[0m,\n",
       "    \u001b[33mexperience\u001b[0m=\u001b[32m'5+ years of experience as a software engineer, preferably building APIs and/or interfaces'\u001b[0m,\n",
       "    \u001b[33mskills\u001b[0m=\u001b[1m[\u001b[0m\u001b[32m'Python'\u001b[0m, \u001b[32m'AWS'\u001b[0m, \u001b[32m'Machine Learning'\u001b[0m\u001b[1m]\u001b[0m,\n",
       "    \u001b[33mdescription\u001b[0m=\u001b[32m'Anthropic’s mission is to create reliable, interpretable, and steerable AI systems. We want AI to \u001b[0m\n",
       "\u001b[32mbe safe and beneficial for our users and for society as a whole. Our team is a quickly growing group of committed \u001b[0m\n",
       "\u001b[32mresearchers, engineers, policy experts, and business leaders working together to build beneficial AI systems.'\u001b[0m\n",
       "\u001b[1m)\u001b[0m\n"
      ]
     },
     "metadata": {},
     "output_type": "display_data"
    }
   ],
   "source": [
    "job_description_agent_result = job_description_parser_agent.run_sync(\n",
    "    \"Please extract job description for the provided URL\",\n",
    "    deps=JobInformationFetchDeps(\n",
    "        job_post_url=\"https://boards.greenhouse.io/anthropic/jobs/4042814008\"\n",
    "    ),\n",
    ")\n",
    "pprint(job_description_agent_result.data)"
   ]
  },
  {
   "cell_type": "code",
   "execution_count": 30,
   "metadata": {},
   "outputs": [],
   "source": [
    "class ColdEmailWriterAgentInput(BaseModel):\n",
    "    job_description: JobDescriptionAgentResult = Field(\n",
    "        description=\"Parsed job posting details including role, company, required experience, skills, and full description\"\n",
    "    )\n",
    "\n",
    "class ColdEmailWriterAgentResponse(BaseModel):\n",
    "    subject: str = Field(\n",
    "        description=\"Email subject line that captures attention and highlights key value proposition (e.g., 'Experienced Python/ML Engineers Available for Anthropic's AI Initiative')\"\n",
    "    )\n",
    "    body: str = Field(\n",
    "        description=\"Professional email body that matches job requirements with portfolio expertise, includes introduction, value proposition, relevant project examples, and call-to-action\"\n",
    "    )\n",
    "\n",
    "\n",
    "cold_email_writer_agent = Agent(\n",
    "    model='groq:llama-3.2-3b-preview',\n",
    "    deps_type=ColdEmailWriterAgentInput,\n",
    "    result_type=ColdEmailWriterAgentResponse,\n",
    "    system_prompt=\"\"\"\n",
    "You are Ria, a tech recruitment specialist at Turing, reaching out to hiring managers about your firm's pre-vetted engineering talent pool. Using the provided job description:\n",
    "\n",
    "1. Analyze role requirements and highlight relevant Turing portfolio projects\n",
    "2. Create concise, compelling subject lines highlighting available talent\n",
    "3. Write brief, impactful email body (3-4 paragraphs max) that:\n",
    "   - Opens with specific reference to company's hiring needs\n",
    "   - Showcases relevant Turing portfolio projects matching required tech stack\n",
    "   - Emphasizes that Turing has pre-vetted engineers ready to interview\n",
    "   - Includes clear call-to-action to discuss available candidates\n",
    "\n",
    "Keep tone professional yet conversational. Focus on Turing's talent pool and proven project experience.\n",
    "\"\"\"\n",
    ")\n",
    "\n",
    "\n"
   ]
  },
  {
   "cell_type": "code",
   "execution_count": 31,
   "metadata": {},
   "outputs": [
    {
     "data": {
      "text/html": [
       "<pre style=\"white-space:pre;overflow-x:auto;line-height:normal;font-family:Menlo,'DejaVu Sans Mono',consolas,'Courier New',monospace\"><span style=\"color: #800080; text-decoration-color: #800080; font-weight: bold\">ColdEmailWriterAgentResponse</span><span style=\"font-weight: bold\">(</span>\n",
       "    <span style=\"color: #808000; text-decoration-color: #808000\">subject</span>=<span style=\"color: #008000; text-decoration-color: #008000\">'Unlock Expertise for Your AI Initiative'</span>,\n",
       "    <span style=\"color: #808000; text-decoration-color: #808000\">body</span>=<span style=\"color: #008000; text-decoration-color: #008000\">\"Dear Hiring Manager,\\n\\nI came across your job posting for an AI Engineer and was impressed by the </span>\n",
       "<span style=\"color: #008000; text-decoration-color: #008000\">innovative projects you're working on. At Turing, we've helped numerous companies like yours find top talent with </span>\n",
       "<span style=\"color: #008000; text-decoration-color: #008000\">expertise in AI and machine learning.\\n\\nOur portfolio showcases projects that align with your requirements, </span>\n",
       "<span style=\"color: #008000; text-decoration-color: #008000\">including a natural language processing project that improved sentiment analysis by 30% and a computer vision </span>\n",
       "<span style=\"color: #008000; text-decoration-color: #008000\">project that increased object detection accuracy by 25%. Our engineers have hands-on experience with popular </span>\n",
       "<span style=\"color: #008000; text-decoration-color: #008000\">frameworks like TensorFlow and PyTorch.\\n\\nWhat sets us apart is our pre-vetted talent pool, carefully curated to </span>\n",
       "<span style=\"color: #008000; text-decoration-color: #008000\">ensure the best fit for your team. Our engineers have undergone rigorous testing and have a proven track record of </span>\n",
       "<span style=\"color: #008000; text-decoration-color: #008000\">delivering high-quality results.\\n\\nI'd love to discuss how our engineers can contribute to your AI initiative. </span>\n",
       "<span style=\"color: #008000; text-decoration-color: #008000\">Please let me know if you'd like to schedule a call to explore the possibilities.\\n\\nBest regards, Ria\"</span>\n",
       "<span style=\"font-weight: bold\">)</span>\n",
       "</pre>\n"
      ],
      "text/plain": [
       "\u001b[1;35mColdEmailWriterAgentResponse\u001b[0m\u001b[1m(\u001b[0m\n",
       "    \u001b[33msubject\u001b[0m=\u001b[32m'Unlock Expertise for Your AI Initiative'\u001b[0m,\n",
       "    \u001b[33mbody\u001b[0m=\u001b[32m\"Dear\u001b[0m\u001b[32m Hiring Manager,\\n\\nI came across your job posting for an AI Engineer and was impressed by the \u001b[0m\n",
       "\u001b[32minnovative projects you're working on. At Turing, we've helped numerous companies like yours find top talent with \u001b[0m\n",
       "\u001b[32mexpertise in AI and machine learning.\\n\\nOur portfolio showcases projects that align with your requirements, \u001b[0m\n",
       "\u001b[32mincluding a natural language processing project that improved sentiment analysis by 30% and a computer vision \u001b[0m\n",
       "\u001b[32mproject that increased object detection accuracy by 25%. Our engineers have hands-on experience with popular \u001b[0m\n",
       "\u001b[32mframeworks like TensorFlow and PyTorch.\\n\\nWhat sets us apart is our pre-vetted talent pool, carefully curated to \u001b[0m\n",
       "\u001b[32mensure the best fit for your team. Our engineers have undergone rigorous testing and have a proven track record of \u001b[0m\n",
       "\u001b[32mdelivering high-quality results.\\n\\nI'd love to discuss how our engineers can contribute to your AI initiative. \u001b[0m\n",
       "\u001b[32mPlease let me know if you'd like to schedule a call to explore the possibilities.\\n\\nBest regards, Ria\"\u001b[0m\n",
       "\u001b[1m)\u001b[0m\n"
      ]
     },
     "metadata": {},
     "output_type": "display_data"
    }
   ],
   "source": [
    "result = cold_email_writer_agent.run_sync(\n",
    "    \"Please write a cold email\",\n",
    "    deps=ColdEmailWriterAgentInput(\n",
    "        job_description=job_description_agent_result.data\n",
    "    )\n",
    ")\n",
    "pprint(result.data)"
   ]
  },
  {
   "cell_type": "code",
   "execution_count": 33,
   "metadata": {},
   "outputs": [
    {
     "data": {
      "text/html": [
       "<pre style=\"white-space:pre;overflow-x:auto;line-height:normal;font-family:Menlo,'DejaVu Sans Mono',consolas,'Courier New',monospace\">Dear Hiring Manager,\n",
       "\n",
       "I came across your job posting for an AI Engineer and was impressed by the innovative projects you're working on. \n",
       "At Turing, we've helped numerous companies like yours find top talent with expertise in AI and machine learning.\n",
       "\n",
       "Our portfolio showcases projects that align with your requirements, including a natural language processing project\n",
       "that improved sentiment analysis by <span style=\"color: #008080; text-decoration-color: #008080; font-weight: bold\">30</span>% and a computer vision project that increased object detection accuracy by \n",
       "<span style=\"color: #008080; text-decoration-color: #008080; font-weight: bold\">25</span>%. Our engineers have hands-on experience with popular frameworks like TensorFlow and PyTorch.\n",
       "\n",
       "What sets us apart is our pre-vetted talent pool, carefully curated to ensure the best fit for your team. Our \n",
       "engineers have undergone rigorous testing and have a proven track record of delivering high-quality results.\n",
       "\n",
       "I'd love to discuss how our engineers can contribute to your AI initiative. Please let me know if you'd like to \n",
       "schedule a call to explore the possibilities.\n",
       "\n",
       "Best regards, Ria\n",
       "</pre>\n"
      ],
      "text/plain": [
       "Dear Hiring Manager,\n",
       "\n",
       "I came across your job posting for an AI Engineer and was impressed by the innovative projects you're working on. \n",
       "At Turing, we've helped numerous companies like yours find top talent with expertise in AI and machine learning.\n",
       "\n",
       "Our portfolio showcases projects that align with your requirements, including a natural language processing project\n",
       "that improved sentiment analysis by \u001b[1;36m30\u001b[0m% and a computer vision project that increased object detection accuracy by \n",
       "\u001b[1;36m25\u001b[0m%. Our engineers have hands-on experience with popular frameworks like TensorFlow and PyTorch.\n",
       "\n",
       "What sets us apart is our pre-vetted talent pool, carefully curated to ensure the best fit for your team. Our \n",
       "engineers have undergone rigorous testing and have a proven track record of delivering high-quality results.\n",
       "\n",
       "I'd love to discuss how our engineers can contribute to your AI initiative. Please let me know if you'd like to \n",
       "schedule a call to explore the possibilities.\n",
       "\n",
       "Best regards, Ria\n"
      ]
     },
     "metadata": {},
     "output_type": "display_data"
    }
   ],
   "source": [
    "pprint(result.data.body)"
   ]
  },
  {
   "cell_type": "code",
   "execution_count": null,
   "metadata": {},
   "outputs": [],
   "source": []
  }
 ],
 "metadata": {
  "kernelspec": {
   "display_name": "3.12.7",
   "language": "python",
   "name": "python3"
  },
  "language_info": {
   "codemirror_mode": {
    "name": "ipython",
    "version": 3
   },
   "file_extension": ".py",
   "mimetype": "text/x-python",
   "name": "python",
   "nbconvert_exporter": "python",
   "pygments_lexer": "ipython3",
   "version": "3.12.7"
  }
 },
 "nbformat": 4,
 "nbformat_minor": 2
}
